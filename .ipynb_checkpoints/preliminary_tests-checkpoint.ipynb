{
 "cells": [
  {
   "cell_type": "markdown",
   "metadata": {},
   "source": [
    "# Instructions"
   ]
  },
  {
   "cell_type": "markdown",
   "metadata": {},
   "source": [
    "This assignment is provided in the form of a Jupyter notebook. Questions and tasks are posed within this notebook file and you are expected to provide code and/or written answers when prompted. Remember that you can use Markdown cells to format written responses where necessary."
   ]
  },
  {
   "cell_type": "markdown",
   "metadata": {},
   "source": [
    "Before submitting your assignment, be sure to do a clean run of your notebook and **verify that your cell outputs (e.g., prints, figures, tables) are correctly shown**. To do a clean run, click *Kernel&#8594;Restart & Restart Kernal and Run All Cells...*.\n",
    "\n",
    "You are required to submit this notebook to Gradescope in two forms:\n",
    "\n",
    "1. Submit a PDF of the completed notebook. To produce a PDF, you can use *File&#8594;Save and Export Notebook As...&#8594;HTML* and then convert the HTML file to a PDF using your preferred web browser. **Verify that your code, written answers, and cell outputs are visible in the submitted PDF.**\n",
    "2. Submit a zip file (including the `.ipynb` file) of this assignment to Gradescope."
   ]
  },
  {
   "cell_type": "markdown",
   "metadata": {},
   "source": [
    "# Setup and Imports"
   ]
  },
  {
   "cell_type": "markdown",
   "metadata": {},
   "source": [
    "These cells will import necessary libraries and configure the notebook's visual style."
   ]
  },
  {
   "cell_type": "code",
   "execution_count": 1,
   "metadata": {},
   "outputs": [],
   "source": [
    "# Efficient math and data management\n",
    "import numpy as np\n",
    "import pandas as pd\n",
    "\n",
    "# You may import useful modules and functions from the Python Standard Library.\n",
    "import os\n",
    "from functools import reduce  \n",
    "\n",
    "# Visualization libraries\n",
    "import matplotlib\n",
    "import matplotlib.pyplot as plt\n",
    "import seaborn as sns"
   ]
  },
  {
   "cell_type": "code",
   "execution_count": 55,
   "metadata": {},
   "outputs": [],
   "source": [
    "# Inline figures. Can swap comments to use interactive figures. Use inline figures for assignment submission.\n",
    "%matplotlib inline\n",
    "# %matplotlib notebook"
   ]
  },
  {
   "cell_type": "code",
   "execution_count": 56,
   "metadata": {},
   "outputs": [],
   "source": [
    "# Set seaborn visual style\n",
    "sns.set()\n",
    "sns.set_context('talk')\n",
    "plt.rcParams[\"patch.force_edgecolor\"] = False  # Turn off histogram borders"
   ]
  },
  {
   "cell_type": "markdown",
   "metadata": {},
   "source": [
    "# Load Data"
   ]
  },
  {
   "cell_type": "markdown",
   "metadata": {},
   "source": [
    "In this assignment, we will be using the 2017&ndash;2018 NHANES data set. Every year, the CDC conducts a series of interviews and mobile health examinations. The 2017&ndash;2018 data set contains 9,254 completed interviews and 8,704 health examinations obtained from 30 survey locations. This data has been made publicly available and subset of it is included with this assignment. The raw data files can be found in the `nhanes` folder in both CSV and XPORT file formats if you would like to view them. These data files have been processed and combined for you and provided as `NHANES_combined.csv.gz`."
   ]
  },
  {
   "cell_type": "markdown",
   "metadata": {},
   "source": [
    "Load the combined data file."
   ]
  },
  {
   "cell_type": "code",
   "execution_count": 7,
   "metadata": {},
   "outputs": [
    {
     "name": "stdout",
     "output_type": "stream",
     "text": [
      "          SEQN  KIQ022  KIQ025  KIQ026  KIQ029  KIQ005  KIQ010  KIQ042  \\\n",
      "0     109266.0     2.0     NaN     2.0     NaN     1.0     NaN     2.0   \n",
      "1     109267.0     2.0     NaN     2.0     NaN     NaN     NaN     NaN   \n",
      "2     109271.0     2.0     NaN     2.0     NaN     1.0     NaN     2.0   \n",
      "3     109273.0     2.0     NaN     2.0     NaN     2.0     1.0     2.0   \n",
      "4     109274.0     2.0     NaN     1.0     2.0     1.0     NaN     2.0   \n",
      "...        ...     ...     ...     ...     ...     ...     ...     ...   \n",
      "9227  124815.0     2.0     NaN     2.0     NaN     2.0     1.0     2.0   \n",
      "9228  124817.0     2.0     NaN     1.0     2.0     5.0     1.0     2.0   \n",
      "9229  124818.0     2.0     NaN     2.0     NaN     3.0     1.0     2.0   \n",
      "9230  124821.0     2.0     NaN     2.0     NaN     3.0     1.0     2.0   \n",
      "9231  124822.0     2.0     NaN     2.0     NaN     2.0     2.0     2.0   \n",
      "\n",
      "      KIQ430  KIQ044  KIQ450  KIQ046  KIQ470  KIQ050  KIQ052        KIQ480  \n",
      "0        NaN     2.0     NaN     2.0     NaN     NaN     NaN  5.397605e-79  \n",
      "1        NaN     NaN     NaN     NaN     NaN     NaN     NaN           NaN  \n",
      "2        NaN     1.0     2.0     2.0     NaN     3.0     1.0  2.000000e+00  \n",
      "3        NaN     1.0     1.0     2.0     NaN     1.0     1.0  1.000000e+00  \n",
      "4        NaN     2.0     NaN     2.0     NaN     NaN     NaN  5.397605e-79  \n",
      "...      ...     ...     ...     ...     ...     ...     ...           ...  \n",
      "9227     NaN     2.0     NaN     2.0     NaN     NaN     NaN  2.000000e+00  \n",
      "9228     NaN     1.0     3.0     1.0     3.0     4.0     4.0  5.397605e-79  \n",
      "9229     NaN     1.0     2.0     2.0     NaN     3.0     1.0  1.000000e+00  \n",
      "9230     NaN     2.0     NaN     2.0     NaN     NaN     NaN  2.000000e+00  \n",
      "9231     NaN     1.0     1.0     2.0     NaN     2.0     1.0  1.000000e+00  \n",
      "\n",
      "[9232 rows x 16 columns]\n"
     ]
    }
   ],
   "source": [
    "data = pd.read_sas('P_KIQ_U.XPT')\n",
    "print(data)\n",
    "metal_data = pd.read_sas('P_PBCD.XPT')"
   ]
  },
  {
   "cell_type": "code",
   "execution_count": 19,
   "metadata": {},
   "outputs": [
    {
     "name": "stdout",
     "output_type": "stream",
     "text": [
      "383\n"
     ]
    }
   ],
   "source": [
    "#Count the nuber of non-nan values in the dataset and divide by length of dataset\n",
    "non_null_kidney = data['KIQ022'][pd.notnull(data['KIQ022'])]\n",
    "with_kidney_disease = non_null_kidney[non_null_kidney == 1]\n",
    "print(len(with_kidney_disease))\n",
    "# percent_tested = num_tested / len(data)\n",
    "# print(f'{round(percent_tested * 100,4)}%')"
   ]
  },
  {
   "cell_type": "code",
   "execution_count": 20,
   "metadata": {},
   "outputs": [
    {
     "name": "stdout",
     "output_type": "stream",
     "text": [
      "124\n"
     ]
    }
   ],
   "source": [
    "non_null_lead = metal_data['LBXBPB'][pd.notnull(metal_data['LBXBPB'])]\n",
    "with_high_lead = non_null_lead[non_null_lead >= 5]\n",
    "print(len(with_high_lead))"
   ]
  },
  {
   "cell_type": "code",
   "execution_count": 21,
   "metadata": {},
   "outputs": [
    {
     "name": "stdout",
     "output_type": "stream",
     "text": [
      "398\n"
     ]
    }
   ],
   "source": [
    "non_null_mercury = metal_data['LBXTHG'][pd.notnull(metal_data['LBXTHG'])]\n",
    "with_high_mercury = non_null_mercury[non_null_mercury >= 5]\n",
    "print(len(with_high_mercury))"
   ]
  },
  {
   "cell_type": "code",
   "execution_count": 25,
   "metadata": {},
   "outputs": [
    {
     "name": "stdout",
     "output_type": "stream",
     "text": [
      "1        False\n",
      "3        False\n",
      "5        False\n",
      "6        False\n",
      "7        False\n",
      "         ...  \n",
      "13766    False\n",
      "13767    False\n",
      "13769    False\n",
      "13770    False\n",
      "13771    False\n",
      "Name: LBXBPB, Length: 11107, dtype: bool\n",
      "3\n"
     ]
    }
   ],
   "source": [
    "num_both = np.count_nonzero((non_null_kidney == 1) & (non_null_lead >= 5))\n",
    "print(num_both)"
   ]
  },
  {
   "cell_type": "code",
   "execution_count": null,
   "metadata": {},
   "outputs": [],
   "source": []
  }
 ],
 "metadata": {
  "kernelspec": {
   "display_name": "Python 3 (ipykernel)",
   "language": "python",
   "name": "python3"
  },
  "language_info": {
   "codemirror_mode": {
    "name": "ipython",
    "version": 3
   },
   "file_extension": ".py",
   "mimetype": "text/x-python",
   "name": "python",
   "nbconvert_exporter": "python",
   "pygments_lexer": "ipython3",
   "version": "3.8.10"
  }
 },
 "nbformat": 4,
 "nbformat_minor": 4
}
