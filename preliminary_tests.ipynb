{
 "cells": [
  {
   "cell_type": "markdown",
   "metadata": {},
   "source": [
    "# Setup and Imports"
   ]
  },
  {
   "cell_type": "markdown",
   "metadata": {},
   "source": [
    "These cells will import necessary libraries and configure the notebook's visual style."
   ]
  },
  {
   "cell_type": "code",
   "execution_count": 1,
   "metadata": {},
   "outputs": [],
   "source": [
    "# Efficient math and data management\n",
    "import numpy as np\n",
    "import pandas as pd\n",
    "\n",
    "# You may import useful modules and functions from the Python Standard Library.\n",
    "import os\n",
    "from functools import reduce  \n",
    "\n",
    "# Visualization libraries\n",
    "import matplotlib\n",
    "import matplotlib.pyplot as plt\n",
    "import seaborn as sns"
   ]
  },
  {
   "cell_type": "code",
   "execution_count": 2,
   "metadata": {},
   "outputs": [],
   "source": [
    "# Inline figures. Can swap comments to use interactive figures. Use inline figures for assignment submission.\n",
    "%matplotlib inline\n",
    "# %matplotlib notebook"
   ]
  },
  {
   "cell_type": "code",
   "execution_count": 3,
   "metadata": {},
   "outputs": [],
   "source": [
    "# Set seaborn visual style\n",
    "sns.set()\n",
    "sns.set_context('talk')\n",
    "plt.rcParams[\"patch.force_edgecolor\"] = False  # Turn off histogram borders"
   ]
  },
  {
   "cell_type": "markdown",
   "metadata": {},
   "source": [
    "# Load Data"
   ]
  },
  {
   "cell_type": "markdown",
   "metadata": {},
   "source": [
    "Load the combined data file."
   ]
  },
  {
   "cell_type": "code",
   "execution_count": 4,
   "metadata": {},
   "outputs": [],
   "source": [
    "def gfr(seq_num, dem_data, bio_pro):\n",
    "    user_dem_data = dem_data[dem_data['SEQN'] == seq_num]\n",
    "    race = user_dem_data['RIDRETH1'].item()\n",
    "    gender = user_dem_data['RIAGENDR'].item()\n",
    "    age = user_dem_data['RIDAGEYR'].item()\n",
    "    sc = bio_pro[bio_pro['SEQN'] == seq_num]['LBXSCR'].item()\n",
    "    k = 0.7 if gender == 1 else 0.9\n",
    "    a = -0.329 if gender == 1 else -0.411\n",
    "    t = 1.159 if race == 4 else 1\n",
    "    s = 1.018 if gender == 1 else 1\n",
    "    return 141 * (min(sc/k, 1)**a) * (max(sc/k, 1)**-1.209) * (0.993**age) * s * t\n"
   ]
  },
  {
   "cell_type": "code",
   "execution_count": 5,
   "metadata": {},
   "outputs": [],
   "source": [
    "def load_gfr(folder):\n",
    "    bio_pro = pd.read_sas(folder + '/P_BIOPRO.XPT')\n",
    "    dem_data = pd.read_sas(folder + '/P_DEMO.XPT')\n",
    "    gfr_col = bio_pro['SEQN'].apply(lambda seqn: gfr(seqn, dem_data, bio_pro))\n",
    "    gfr_data = pd.concat([bio_pro['SEQN'],gfr_col], axis=1, join='inner')\n",
    "    gfr_data.columns = ['SEQN', 'GFR']\n",
    "    print('Number of patients with possible kidney disease: ', np.count_nonzero(gfr_col <= 60))\n",
    "    return gfr_data"
   ]
  },
  {
   "cell_type": "code",
   "execution_count": 9,
   "metadata": {},
   "outputs": [],
   "source": [
    "#folder is the data directory, single_cols is a dict which maps file names with a list of specific cols for that file (for example, from P_KIQ_U.XPT we only want KIQ022 so specific_cols = {'P_KIQ_U.XPT' : ['KIQ022']}\n",
    "def load_and_merge(folder, specific_cols=None):\n",
    "    gfr_data = load_gfr(folder)\n",
    "    data_files = [gfr_data]\n",
    "    for filename in os.listdir(folder):\n",
    "        filepath = folder + '/' + filename\n",
    "        if specific_cols and filename in specific_cols:\n",
    "            #Add SEQN to cols\n",
    "            col_names = ['SEQN']\n",
    "            col_names.extend(specific_cols[filename])\n",
    "            #Rebuild as dataframe with the correct column names (necessary for the inner join after all data files are collected)\n",
    "            data_files.append(pd.DataFrame(pd.read_sas(filepath)[col_names], columns=col_names))\n",
    "        else:\n",
    "            data_files.append(pd.read_sas(filepath))\n",
    "    #https://stackoverflow.com/questions/23668427/pandas-three-way-joining-multiple-dataframes-on-columns\n",
    "    return pd.concat(\n",
    "        (iDF.set_index('SEQN') for iDF in data_files),\n",
    "        axis=1, join='inner'\n",
    "    ).reset_index()"
   ]
  },
  {
   "cell_type": "code",
   "execution_count": 17,
   "metadata": {},
   "outputs": [
    {
     "name": "stdout",
     "output_type": "stream",
     "text": [
      "Number of patients with possible kidney disease:  1252\n",
      "Number of patients with possible kidney disease:  718\n",
      "Number of patients with possible kidney disease:  793\n",
      "Number of patients with possible kidney disease:  695\n",
      "Number of patients with possible kidney disease:  875\n"
     ]
    }
   ],
   "source": [
    "all_years = []\n",
    "for year_range in ['2017-2020', '2015-2016', '2013-2014', '2011-2012', '2009-2010']:\n",
    "    full_data = load_and_merge('data/' + year_range, {'KIQ_U.XPT' : ['KIQ022'], 'ALB_CR.XPT' : ['URDACT']})\n",
    "    all_years.append(full_data)"
   ]
  },
  {
   "cell_type": "code",
   "execution_count": 18,
   "metadata": {},
   "outputs": [
    {
     "name": "stdout",
     "output_type": "stream",
     "text": [
      "Num that said yes to kidney disease 50\n",
      "Num with risky gfr 215\n",
      "Num with risky acr 173\n",
      "Num with risky acr and gfr 55\n",
      "\n",
      "Num that said yes to kidney disease 48\n",
      "Num with risky gfr 124\n",
      "Num with risky acr 124\n",
      "Num with risky acr and gfr 36\n",
      "\n",
      "Num that said yes to kidney disease 32\n",
      "Num with risky gfr 118\n",
      "Num with risky acr 95\n",
      "Num with risky acr and gfr 25\n",
      "\n",
      "Num that said yes to kidney disease 35\n",
      "Num with risky gfr 94\n",
      "Num with risky acr 108\n",
      "Num with risky acr and gfr 30\n",
      "\n",
      "Num that said yes to kidney disease 27\n",
      "Num with risky gfr 141\n",
      "Num with risky acr 111\n",
      "Num with risky acr and gfr 31\n",
      "\n"
     ]
    }
   ],
   "source": [
    "for data in all_years:\n",
    "    print('Num that said yes to kidney disease', np.count_nonzero(data['KIQ022'] == 1))\n",
    "    print('Num with risky gfr', np.count_nonzero(data['GFR'] <= 60))\n",
    "    print('Num with risky acr', np.count_nonzero(data['URDACT'] >= 30))\n",
    "    print('Num with risky acr and gfr', np.count_nonzero((data['URDACT'] >= 30) & (data['GFR'] <= 60)))\n",
    "    print()"
   ]
  },
  {
   "cell_type": "code",
   "execution_count": null,
   "metadata": {},
   "outputs": [],
   "source": []
  }
 ],
 "metadata": {
  "kernelspec": {
   "display_name": "Python 3 (ipykernel)",
   "language": "python",
   "name": "python3"
  },
  "language_info": {
   "codemirror_mode": {
    "name": "ipython",
    "version": 3
   },
   "file_extension": ".py",
   "mimetype": "text/x-python",
   "name": "python",
   "nbconvert_exporter": "python",
   "pygments_lexer": "ipython3",
   "version": "3.8.10"
  }
 },
 "nbformat": 4,
 "nbformat_minor": 4
}
