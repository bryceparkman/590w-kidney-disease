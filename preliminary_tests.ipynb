{
 "cells": [
  {
   "cell_type": "markdown",
   "metadata": {},
   "source": [
    "# Setup and Imports"
   ]
  },
  {
   "cell_type": "markdown",
   "metadata": {},
   "source": [
    "These cells will import necessary libraries and configure the notebook's visual style."
   ]
  },
  {
   "cell_type": "code",
   "execution_count": 1,
   "metadata": {},
   "outputs": [],
   "source": [
    "# Efficient math and data management\n",
    "import numpy as np\n",
    "import pandas as pd\n",
    "\n",
    "# You may import useful modules and functions from the Python Standard Library.\n",
    "import os\n",
    "from functools import reduce  \n",
    "\n",
    "# Visualization libraries\n",
    "import matplotlib\n",
    "import matplotlib.pyplot as plt\n",
    "import seaborn as sns"
   ]
  },
  {
   "cell_type": "code",
   "execution_count": 2,
   "metadata": {},
   "outputs": [],
   "source": [
    "# Inline figures. Can swap comments to use interactive figures. Use inline figures for assignment submission.\n",
    "%matplotlib inline\n",
    "# %matplotlib notebook"
   ]
  },
  {
   "cell_type": "code",
   "execution_count": 3,
   "metadata": {},
   "outputs": [],
   "source": [
    "# Set seaborn visual style\n",
    "sns.set()\n",
    "sns.set_context('talk')\n",
    "plt.rcParams[\"patch.force_edgecolor\"] = False  # Turn off histogram borders"
   ]
  },
  {
   "cell_type": "markdown",
   "metadata": {},
   "source": [
    "# Load Data"
   ]
  },
  {
   "cell_type": "markdown",
   "metadata": {},
   "source": [
    "Load the combined data file."
   ]
  },
  {
   "cell_type": "code",
   "execution_count": 11,
   "metadata": {},
   "outputs": [
    {
     "name": "stdout",
     "output_type": "stream",
     "text": [
      "           SEQN  URXUMA  URXUMS      URDUMALC  URXUCR   URXCRS      URDUCRLC  \\\n",
      "0      109264.0     NaN     NaN           NaN     NaN      NaN           NaN   \n",
      "1      109266.0     5.5     5.5  5.397605e-79    36.0   3182.4  5.397605e-79   \n",
      "2      109270.0     4.0     4.0  5.397605e-79   165.0  14586.0  5.397605e-79   \n",
      "3      109271.0     2.4     2.4  5.397605e-79    32.0   2828.8  5.397605e-79   \n",
      "4      109273.0     4.9     4.9  5.397605e-79   121.0  10696.4  5.397605e-79   \n",
      "...         ...     ...     ...           ...     ...      ...           ...   \n",
      "13022  124817.0    20.1    20.1  5.397605e-79    63.0   5569.2  5.397605e-79   \n",
      "13023  124818.0    12.8    12.8  5.397605e-79   370.0  32708.0  5.397605e-79   \n",
      "13024  124820.0    10.8    10.8  5.397605e-79    68.0   6011.2  5.397605e-79   \n",
      "13025  124821.0     6.1     6.1  5.397605e-79   191.0  16884.4  5.397605e-79   \n",
      "13026  124822.0     4.0     4.0  5.397605e-79   100.0   8840.0  5.397605e-79   \n",
      "\n",
      "       URDACT  \n",
      "0         NaN  \n",
      "1       15.28  \n",
      "2        2.42  \n",
      "3        7.50  \n",
      "4        4.05  \n",
      "...       ...  \n",
      "13022   31.90  \n",
      "13023    3.46  \n",
      "13024   15.88  \n",
      "13025    3.19  \n",
      "13026    4.00  \n",
      "\n",
      "[13027 rows x 8 columns]\n"
     ]
    }
   ],
   "source": [
    "#Kidney questionnaire (https://wwwn.cdc.gov/Nchs/Nhanes/2017-2018/P_KIQ_U.htm)\n",
    "kidney_data = pd.read_sas('P_KIQ_U.XPT')\n",
    "\n",
    "#Demographic data (https://wwwn.cdc.gov/Nchs/Nhanes/2017-2018/P_DEMO.htm)\n",
    "dem_data = pd.read_sas('P_DEMO.XPT')\n",
    "\n",
    "#Standard biochemistry profile\n",
    "bio_pro = pd.read_sas('P_BIOPRO.XPT')\n",
    "\n",
    "#Blood metal data (https://wwwn.cdc.gov/Nchs/Nhanes/2017-2018/P_PBCD.htm)\n",
    "metal_data = pd.read_sas('P_PBCD.XPT')\n",
    "\n",
    "#Albumin Creatin (https://wwwn.cdc.gov/Nchs/Nhanes/2017-2018/P_ALB_CR.htm)\n",
    "acr_data = pd.read_sas('P_ALB_CR.XPT')\n",
    "print(acr_data)"
   ]
  },
  {
   "cell_type": "code",
   "execution_count": null,
   "metadata": {},
   "outputs": [],
   "source": [
    "def gfr(seq_num):\n",
    "    user_dem_data = dem_data[dem_data['SEQN'] == seq_num]\n",
    "    race = user_dem_data['RIDRETH1']\n",
    "    gender = user_dem_data['RIAGENDR']\n",
    "    age = user_dem_data['RIDAGEYR']\n",
    "    sc = bio_pro[bio_pro['SEQN'] == seq_num]['LBXSCR']\n",
    "    k = 0.7 if gender == 1 else 0.9\n",
    "    a = -0.329 if gender == 1 else -0.411\n",
    "    t = 1.159 if race == 4 else 1\n",
    "    s = 1.018 if gender == 1 else 1\n",
    "    return 141 * (min(sc/k, 1)**a) * (max(sc/k, 1)**-1.209) * (0.993**age) * s * t\n"
   ]
  },
  {
   "cell_type": "code",
   "execution_count": 5,
   "metadata": {},
   "outputs": [
    {
     "name": "stdout",
     "output_type": "stream",
     "text": [
      "383\n"
     ]
    }
   ],
   "source": [
    "#Count the nuber of non-nan values in the dataset and divide by length of dataset\n",
    "non_null_kidney = kidney_data['KIQ022'][pd.notnull(kidney_data['KIQ022'])]\n",
    "with_kidney_disease = non_null_kidney[non_null_kidney == 1]\n",
    "print(len(with_kidney_disease))\n",
    "# percent_tested = num_tested / len(data)\n",
    "# print(f'{round(percent_tested * 100,4)}%')"
   ]
  },
  {
   "cell_type": "code",
   "execution_count": 6,
   "metadata": {},
   "outputs": [
    {
     "name": "stdout",
     "output_type": "stream",
     "text": [
      "124\n"
     ]
    }
   ],
   "source": [
    "non_null_lead = metal_data['LBXBPB'][pd.notnull(metal_data['LBXBPB'])]\n",
    "with_high_lead = non_null_lead[non_null_lead >= 5]\n",
    "print(len(with_high_lead))"
   ]
  },
  {
   "cell_type": "code",
   "execution_count": 7,
   "metadata": {},
   "outputs": [
    {
     "name": "stdout",
     "output_type": "stream",
     "text": [
      "398\n"
     ]
    }
   ],
   "source": [
    "non_null_mercury = metal_data['LBXTHG'][pd.notnull(metal_data['LBXTHG'])]\n",
    "with_high_mercury = non_null_mercury[non_null_mercury >= 5]\n",
    "print(len(with_high_mercury))"
   ]
  },
  {
   "cell_type": "code",
   "execution_count": 8,
   "metadata": {},
   "outputs": [
    {
     "name": "stdout",
     "output_type": "stream",
     "text": [
      "1051\n"
     ]
    }
   ],
   "source": [
    "non_null_manganese = metal_data['LBXBMN'][pd.notnull(metal_data['LBXBMN'])]\n",
    "with_high_manganese = non_null_manganese[non_null_manganese > 15]\n",
    "print(len(with_high_manganese))"
   ]
  },
  {
   "cell_type": "code",
   "execution_count": 9,
   "metadata": {},
   "outputs": [
    {
     "name": "stdout",
     "output_type": "stream",
     "text": [
      "20\n"
     ]
    }
   ],
   "source": [
    "num_both = np.count_nonzero((non_null_kidney == 1) & ((non_null_lead >= 5) | (non_null_manganese > 15)))\n",
    "print(num_both)"
   ]
  },
  {
   "cell_type": "code",
   "execution_count": 10,
   "metadata": {},
   "outputs": [
    {
     "name": "stdout",
     "output_type": "stream",
     "text": [
      "1656\n"
     ]
    }
   ],
   "source": [
    "non_null_acr = acr_data['URDACT'][pd.notnull(acr_data['URDACT'])]\n",
    "with_high_acr = non_null_acr[non_null_acr > 30]\n",
    "print(len(with_high_acr))"
   ]
  },
  {
   "cell_type": "code",
   "execution_count": null,
   "metadata": {},
   "outputs": [],
   "source": []
  }
 ],
 "metadata": {
  "kernelspec": {
   "display_name": "Python 3 (ipykernel)",
   "language": "python",
   "name": "python3"
  },
  "language_info": {
   "codemirror_mode": {
    "name": "ipython",
    "version": 3
   },
   "file_extension": ".py",
   "mimetype": "text/x-python",
   "name": "python",
   "nbconvert_exporter": "python",
   "pygments_lexer": "ipython3",
   "version": "3.8.10"
  }
 },
 "nbformat": 4,
 "nbformat_minor": 4
}
